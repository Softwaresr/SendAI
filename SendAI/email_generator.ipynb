{
 "cells": [
  {
   "cell_type": "code",
   "execution_count": 6,
   "id": "9f3d87f7-1de6-47de-90c0-faba0fe0e513",
   "metadata": {},
   "outputs": [
    {
     "name": "stdout",
     "output_type": "stream",
     "text": [
      "Neil Armstrong. He stepped onto the lunar surface on July 20, 1969, during the Apollo 11 mission. His famous words upon landing were, \"That's one small step for man, one giant leap for mankind.\"\n"
     ]
    }
   ],
   "source": [
    "from langchain_groq import ChatGroq\n",
    "\n",
    "llm = ChatGroq(\n",
    "    temperature=0,\n",
    "    api_key=\"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\",\n",
    "    model_name=\"llama-3.1-70b-versatile\"\n",
    ")\n",
    "response = llm.invoke(\"the first person to land on the moon was...\")\n",
    "print(response.content)"
   ]
  },
  {
   "cell_type": "code",
   "execution_count": 14,
   "id": "59828b77-c9a3-477f-b778-f8cc525debff",
   "metadata": {},
   "outputs": [
    {
     "name": "stderr",
     "output_type": "stream",
     "text": [
      "USER_AGENT environment variable not set, consider setting it to identify your requests.\n"
     ]
    },
    {
     "ename": "NameError",
     "evalue": "name 'page_gata' is not defined",
     "output_type": "error",
     "traceback": [
      "\u001b[1;31m---------------------------------------------------------------------------\u001b[0m",
      "\u001b[1;31mNameError\u001b[0m                                 Traceback (most recent call last)",
      "Cell \u001b[1;32mIn[14], line 5\u001b[0m\n\u001b[0;32m      3\u001b[0m loader \u001b[38;5;241m=\u001b[39m WebBaseLoader(\u001b[38;5;124m\"\u001b[39m\u001b[38;5;124mhttps://jobs.nike.com/job/R-41854?from=job\u001b[39m\u001b[38;5;132;01m%20s\u001b[39;00m\u001b[38;5;124mearch\u001b[39m\u001b[38;5;132;01m%20f\u001b[39;00m\u001b[38;5;124munnel\u001b[39m\u001b[38;5;124m\"\u001b[39m)\n\u001b[0;32m      4\u001b[0m page_data \u001b[38;5;241m=\u001b[39m loader\u001b[38;5;241m.\u001b[39mload()\u001b[38;5;241m.\u001b[39mpop()\u001b[38;5;241m.\u001b[39mpage_content\n\u001b[1;32m----> 5\u001b[0m \u001b[38;5;28mprint\u001b[39m(\u001b[43mpage_gata\u001b[49m)\n",
      "\u001b[1;31mNameError\u001b[0m: name 'page_gata' is not defined"
     ]
    }
   ],
   "source": [
    "from langchain_community.document_loaders.web_base import WebBaseLoader\n",
    "\n",
    "loader = WebBaseLoader(\"https://jobs.nike.com/job/R-41854?from=job%20search%20funnel\")\n",
    "page_data = loader.load().pop().page_content\n",
    "print(page_gata)"
   ]
  },
  {
   "cell_type": "code",
   "execution_count": 15,
   "id": "185125ed-cf3d-4eba-bb01-ff320e849540",
   "metadata": {},
   "outputs": [
    {
     "name": "stdout",
     "output_type": "stream",
     "text": [
      "Apply for Senior Designer, Womens Performance Apparel Color Design\n",
      "\n",
      "Search JobsSkip navigationSearch JobsNIKE, INC. JOBSContract JobsJoin The Talent CommunityLife @ NikeOverviewBenefitsBrandsOverviewJordanConverseTeamsOverviewAdministrative SupportAdvanced InnovationAir Manufacturing InnovationAviationCommunicationsCustomer ServiceDesignDigitalFacilitiesFinance & AccountingGovernment & Public AffairsHuman ResourcesInsights & AnalyticsLegalManufacturing & EngineeringMarketingMerchandisingPlanningPrivacyProcurementProduct Creation, Development & ManagementRetail CorporateRetail StoresSalesSocial & Community ImpactSports MarketingStrategic PlanningSupply Chain, Distribution & LogisticsSustainabilityTechnologyLocationsOverviewNike WHQNike New York HQEHQ: Hilversum, The NetherlandsELC: Laakdal, BelgiumGreater China HQDiversity, Equity & InclusionOverviewMilitary InclusionDisability InclusionIndigenous InclusionInternshipsDesignSenior Designer, Womens Performance Apparel Color DesignBeaverton, OregonBecome a Part of the NIKE, Inc. TeamNIKE, Inc. does more than outfit the world’s best athletes. It is a place to explore potential, obliterate boundaries and push out the edges of what can be. The company looks for people who can grow, think, dream and create. Its culture thrives by embracing diversity and rewarding imagination. The brand seeks achievers, leaders and visionaries. At NIKE, Inc. it’s about each person bringing skills and passion to a challenging and constantly evolving game.NIKE, Inc. designs the future. At NIKE, Inc. designers chase their curiosities and build what’s next, shaping the culture and advancing human potential. The Design teams include artists, inventors and specialists, all with different focuses, including color and material experts, and apparel, footwear and graphic designers. Nike designers look to the future, aggressively pursuing materials, ideas and forms that further elevate the athlete experience, raise the bar for modern style and reduce environmental impact.WHO YOU’LL WORK WITHThe first point of contact that you will collaborate with is the Design triad, consisting of Apparel Design, Color, Graphics, and Print. You will also collaborate with Product Management, Merchandising, Color/Material/Trim Development, as well as Tech Development. This role reports directly to the Color Design Director and does not have direct reports.WHO WE ARE LOOKING FORWe are looking for a Senior Color Designer to combine their experience, problem-solving abilities, and creativity to help build the future of women’s performance apparel. The ideal candidate needs to elevate the Nike athlete product experience with a focus on both the art and science of color. In this role, you will drive an emotional connection to apparel through the use of narrative and storytelling.  Bachelor’s Degree in Design or related field or equivalent combination of relevant education, experience, and training.Minimum 5 years in technically challenging color design experience.Passion for storytelling with the ability to translate narratives onto physical product.Love of sport, curiosity for athlete insight and connection to sport style trends.Interest in women’s apparel and fashion trends.Ability to collaborate with other designers/design directors to create palettes and color flow based on category color strategy.Demonstrates a strong understanding of color technology and how to achieve desired color effects: materials, dyes, finishes and color achievability.Ability to build seasonal color concepts.Provides color design support for design team as needed outside of assigned product load.Ability to conduct in-depth research on athlete insights in order to drive innovative design solutions.Creates and delivers powerful presentations of seasonal design proposals that effectively communicate the concept behind the line for internal and external audiences.Ability to plan and execute the product color details and review all samples, troubleshoot for achievability issues and clearly communicate changes in order to ensure timely completion of each project.Shows ability to self-manage and lead team through change and ambiguity. Excellent written and verbal communication skills.Highly proficient in Adobe Creative Suite (Illustrator, InDesign, Photoshop) and Keynote on a Mac Platform.WHAT YOU’LL WORK ONAs the Senior Color Designer in Women’s Performance Apparel, you will bring to life trend-relevant, narrative-driven concepts by being a color specialist at the product and collection level. This will require driving product excellence through the connection of design, development and manufacturing. Through research and deep consumer understanding, you will be on the cutting edge of color trends, fashion, art, design and sports-related products.We are committed to fostering a diverse and inclusive environment for all employees and job applicants. We offer a number of accommodations to complete our interview process including screen readers, sign language interpreters, accessible and single location for in-person interviews, closed captioning, and other reasonable modifications as needed. If you discover, as you navigate our application process, that you need assistance or an accommodation due to a disability, please complete the Candidate Accommodation Request Form.NIKE, Inc. is a growth company that looks for team members to grow with it. Nike offers a generous total rewards package, casual work environment, a diverse and inclusive culture, and an electric atmosphere for professional development. No matter the location, or the role, every Nike employee shares one galvanizing mission: To bring inspiration and innovation to every athlete* in the world.NIKE, Inc. is committed to employing a diverse workforce. Qualified applicants will receive consideration without regard to race, color, religion, sex, national origin, age, sexual orientation, gender identity, gender expression, veteran status, or disability.How We HireAt NIKE, Inc. we promise to provide a premium, inclusive, compelling and authentic candidate experience. Delivering on this promise means we allow you to be at your best — and to do that, you need to understand how the hiring process works. Transparency is key.\n",
      "\n",
      "* This overview explains our hiring process for corporate roles. Note there may be different hiring steps involved for non-corporate roles.Start nowBenefitsWhether it’s transportation or financial health, we continually invest in our employees to help them achieve greatness — inside and outside of work. All who work here should be able to realize their full potential.Employee Assistance ProgramEmployee Stock Purchase Plan (ESPP)HolidaysMedical PlanPaid Time Off (PTO)Product DiscountsSabbaticalsLearn moreFIND A STOREBECOME A MEMBERSIGN UP FOR EMAILSEND US FEEDBACKSTUDENT DISCOUNTSGET HELPGET HELPOrder StatusDeliveryReturnsPayment OptionsContact Us On Nike.com InquiriesContact Us On All Other InquiriesABOUT NIKEABOUT NIKENewsCareersInvestorsSustainabilityIndia© 2024 Nike, Inc. All Rights ReservedGuidesNike AdaptNike Air MaxNike FlyleatherNike PegasusNike Zoom FlyNike AirNike FlyEaseNike FreeNike ReactNike ZoomXNike Air Force 1Nike FlyknitNike JoyrideNike VaporflyTerms of SaleTerms of UseNike Privacy Policy\n"
     ]
    }
   ],
   "source": [
    "import os\n",
    "from langchain_community.document_loaders.web_base import WebBaseLoader\n",
    "\n",
    "# Set USER_AGENT environment variable\n",
    "os.environ[\"USER_AGENT\"] = \"Mozilla/5.0 (Windows NT 10.0; Win64; x64) AppleWebKit/537.36 (KHTML, like Gecko) Chrome/91.0.4472.124 Safari/537.36\"\n",
    "\n",
    "# Load webpage\n",
    "loader = WebBaseLoader(\"https://jobs.nike.com/job/R-41854?from=job%20search%20funnel\")\n",
    "page_data = loader.load().pop().page_content\n",
    "\n",
    "# Print the loaded page content\n",
    "print(page_data)\n"
   ]
  },
  {
   "cell_type": "code",
   "execution_count": 20,
   "id": "0c38225d-e693-438b-b521-bf818a5de9d4",
   "metadata": {},
   "outputs": [
    {
     "name": "stdout",
     "output_type": "stream",
     "text": [
      "```\n",
      "{\n",
      "  \"role\": \"Senior Designer, Womens Performance Apparel Color Design\",\n",
      "  \"experience\": \"Minimum 5 years in technically challenging color design experience\",\n",
      "  \"skills\": [\n",
      "    \"Bachelor’s Degree in Design or related field or equivalent combination of relevant education, experience, and training\",\n",
      "    \"Passion for storytelling with the ability to translate narratives onto physical product\",\n",
      "    \"Love of sport, curiosity for athlete insight and connection to sport style trends\",\n",
      "    \"Interest in women’s apparel and fashion trends\",\n",
      "    \"Ability to collaborate with other designers/design directors to create palettes and color flow based on category color strategy\",\n",
      "    \"Demonstrates a strong understanding of color technology and how to achieve desired color effects: materials, dyes, finishes and color achievability\",\n",
      "    \"Ability to build seasonal color concepts\",\n",
      "    \"Provides color design support for design team as needed outside of assigned product load\",\n",
      "    \"Ability to conduct in-depth research on athlete insights in order to drive innovative design solutions\",\n",
      "    \"Creates and delivers powerful presentations of seasonal design proposals that effectively communicate the concept behind the line for internal and external audiences\",\n",
      "    \"Ability to plan and execute the product color details and review all samples, troubleshoot for achievability issues and clearly communicate changes in order to ensure timely completion of each project\",\n",
      "    \"Shows ability to self-manage and lead team through change and ambiguity\",\n",
      "    \"Excellent written and verbal communication skills\",\n",
      "    \"Highly proficient in Adobe Creative Suite (Illustrator, InDesign, Photoshop) and Keynote on a Mac Platform\"\n",
      "  ],\n",
      "  \"description\": \"As the Senior Color Designer in Women’s Performance Apparel, you will bring to life trend-relevant, narrative-driven concepts by being a color specialist at the product and collection level. This will require driving product excellence through the connection of design, development and manufacturing. Through research and deep consumer understanding, you will be on the cutting edge of color trends, fashion, art, design and sports-related products.\"\n",
      "}\n",
      "```\n"
     ]
    }
   ],
   "source": [
    "from langchain.prompts import PromptTemplate\n",
    "\n",
    "prompt_extract = PromptTemplate.from_template(\n",
    "    \"\"\"\n",
    "    ### SCRAPED TEXT FROM WEBSITE:\n",
    "    {page_data}\n",
    "    ### INSTRUCTION:\n",
    "    The scraped text is from the career's page of a website.\n",
    "    Your job is to extract the job posting and return them in the JSON format containing the following keys: 'role', 'experience', 'skills', and 'description'.\n",
    "    Only return the valid JSON.\n",
    "    ### VALID JSON (NO PREAMBLE):\n",
    "    \"\"\"\n",
    ")\n",
    "\n",
    "chain_extract = prompt_extract | llm\n",
    "res = chain_extract.invoke(input={'page_data': page_data})\n",
    "print(res.content)\n"
   ]
  },
  {
   "cell_type": "code",
   "execution_count": 21,
   "id": "35bdff8d-ba77-431d-b134-e46bc9c99b3d",
   "metadata": {},
   "outputs": [
    {
     "data": {
      "text/plain": [
       "str"
      ]
     },
     "execution_count": 21,
     "metadata": {},
     "output_type": "execute_result"
    }
   ],
   "source": [
    "from langchain.prompts import PromptTemplate\n",
    "\n",
    "prompt_extract = PromptTemplate.from_template(\n",
    "    \"\"\"\n",
    "    ### SCRAPED TEXT FROM WEBSITE:\n",
    "    {page_data}\n",
    "    ### INSTRUCTION:\n",
    "    The scraped text is from the career's page of a website.\n",
    "    Your job is to extract the job posting and return them in the JSON format containing the following keys: 'role', 'experience', 'skills', and 'description'.\n",
    "    Only return the valid JSON.\n",
    "    ### VALID JSON (NO PREAMBLE):\n",
    "    \"\"\"\n",
    ")\n",
    "\n",
    "chain_extract = prompt_extract | llm\n",
    "res = chain_extract.invoke(input={'page_data': page_data})\n",
    "type(res.content)\n"
   ]
  },
  {
   "cell_type": "code",
   "execution_count": 23,
   "id": "d9b35099-80b0-4ee9-9beb-a66cb0e39d14",
   "metadata": {},
   "outputs": [
    {
     "data": {
      "text/plain": [
       "{'role': 'Senior Designer, Womens Performance Apparel Color Design',\n",
       " 'experience': 'Minimum 5 years in technically challenging color design experience',\n",
       " 'skills': ['Bachelor’s Degree in Design or related field or equivalent combination of relevant education, experience, and training',\n",
       "  'Passion for storytelling with the ability to translate narratives onto physical product',\n",
       "  'Love of sport, curiosity for athlete insight and connection to sport style trends',\n",
       "  'Interest in women’s apparel and fashion trends',\n",
       "  'Ability to collaborate with other designers/design directors to create palettes and color flow based on category color strategy',\n",
       "  'Demonstrates a strong understanding of color technology and how to achieve desired color effects: materials, dyes, finishes and color achievability',\n",
       "  'Ability to build seasonal color concepts',\n",
       "  'Provides color design support for design team as needed outside of assigned product load',\n",
       "  'Ability to conduct in-depth research on athlete insights in order to drive innovative design solutions',\n",
       "  'Creates and delivers powerful presentations of seasonal design proposals that effectively communicate the concept behind the line for internal and external audiences',\n",
       "  'Ability to plan and execute the product color details and review all samples, troubleshoot for achievability issues and clearly communicate changes in order to ensure timely completion of each project',\n",
       "  'Shows ability to self-manage and lead team through change and ambiguity',\n",
       "  'Excellent written and verbal communication skills',\n",
       "  'Highly proficient in Adobe Creative Suite (Illustrator, InDesign, Photoshop) and Keynote on a Mac Platform'],\n",
       " 'description': 'As the Senior Color Designer in Women’s Performance Apparel, you will bring to life trend-relevant, narrative-driven concepts by being a color specialist at the product and collection level. This will require driving product excellence through the connection of design, development and manufacturing. Through research and deep consumer understanding, you will be on the cutting edge of color trends, fashion, art, design and sports-related products.'}"
      ]
     },
     "execution_count": 23,
     "metadata": {},
     "output_type": "execute_result"
    }
   ],
   "source": [
    "from langchain_core.output_parsers import JsonOutputParser\n",
    "\n",
    "json_parser = JsonOutputParser()\n",
    "json_res = json_parser.parse(res.content)\n",
    "json_res"
   ]
  },
  {
   "cell_type": "code",
   "execution_count": 24,
   "id": "611b3dac-3a89-46a5-87c3-38344a93beba",
   "metadata": {},
   "outputs": [
    {
     "data": {
      "text/plain": [
       "dict"
      ]
     },
     "execution_count": 24,
     "metadata": {},
     "output_type": "execute_result"
    }
   ],
   "source": [
    "type(json_res)\n"
   ]
  },
  {
   "cell_type": "code",
   "execution_count": 28,
   "id": "a46f696f-fa42-4cc2-9a68-bfdf599c82c7",
   "metadata": {},
   "outputs": [
    {
     "data": {
      "text/html": [
       "<div>\n",
       "<style scoped>\n",
       "    .dataframe tbody tr th:only-of-type {\n",
       "        vertical-align: middle;\n",
       "    }\n",
       "\n",
       "    .dataframe tbody tr th {\n",
       "        vertical-align: top;\n",
       "    }\n",
       "\n",
       "    .dataframe thead th {\n",
       "        text-align: right;\n",
       "    }\n",
       "</style>\n",
       "<table border=\"1\" class=\"dataframe\">\n",
       "  <thead>\n",
       "    <tr style=\"text-align: right;\">\n",
       "      <th></th>\n",
       "      <th>Techstack</th>\n",
       "      <th>Links</th>\n",
       "    </tr>\n",
       "  </thead>\n",
       "  <tbody>\n",
       "    <tr>\n",
       "      <th>0</th>\n",
       "      <td>React, Node.js, MongoDB</td>\n",
       "      <td>https://example.com/react-portfolio</td>\n",
       "    </tr>\n",
       "    <tr>\n",
       "      <th>1</th>\n",
       "      <td>Angular,.NET, SQL Server</td>\n",
       "      <td>https://example.com/angular-portfolio</td>\n",
       "    </tr>\n",
       "    <tr>\n",
       "      <th>2</th>\n",
       "      <td>Vue.js, Ruby on Rails, PostgreSQL</td>\n",
       "      <td>https://example.com/vue-portfolio</td>\n",
       "    </tr>\n",
       "    <tr>\n",
       "      <th>3</th>\n",
       "      <td>Python, Django, MySQL</td>\n",
       "      <td>https://example.com/python-portfolio</td>\n",
       "    </tr>\n",
       "    <tr>\n",
       "      <th>4</th>\n",
       "      <td>Java, Spring Boot, Oracle</td>\n",
       "      <td>https://example.com/java-portfolio</td>\n",
       "    </tr>\n",
       "    <tr>\n",
       "      <th>5</th>\n",
       "      <td>Flutter, Firebase, GraphQL</td>\n",
       "      <td>https://example.com/flutter-portfolio</td>\n",
       "    </tr>\n",
       "    <tr>\n",
       "      <th>6</th>\n",
       "      <td>WordPress, PHP, MySQL</td>\n",
       "      <td>https://example.com/wordpress-portfolio</td>\n",
       "    </tr>\n",
       "    <tr>\n",
       "      <th>7</th>\n",
       "      <td>Magento, PHP, MySQL</td>\n",
       "      <td>https://example.com/magento-portfolio</td>\n",
       "    </tr>\n",
       "    <tr>\n",
       "      <th>8</th>\n",
       "      <td>React Native, Node.js, MongoDB</td>\n",
       "      <td>https://example.com/react-native-portfolio</td>\n",
       "    </tr>\n",
       "    <tr>\n",
       "      <th>9</th>\n",
       "      <td>iOS, Swift, Core Data</td>\n",
       "      <td>https://example.com/ios-portfolio</td>\n",
       "    </tr>\n",
       "    <tr>\n",
       "      <th>10</th>\n",
       "      <td>Android, Java, Room Persistence</td>\n",
       "      <td>https://example.com/android-portfolio</td>\n",
       "    </tr>\n",
       "    <tr>\n",
       "      <th>11</th>\n",
       "      <td>Kotlin, Android, Firebase</td>\n",
       "      <td>https://example.com/kotlin-android-portfolio</td>\n",
       "    </tr>\n",
       "    <tr>\n",
       "      <th>12</th>\n",
       "      <td>Android TV, Kotlin, Android NDK</td>\n",
       "      <td>https://example.com/android-tv-portfolio</td>\n",
       "    </tr>\n",
       "    <tr>\n",
       "      <th>13</th>\n",
       "      <td>iOS, Swift, ARKit</td>\n",
       "      <td>https://example.com/ios-ar-portfolio</td>\n",
       "    </tr>\n",
       "    <tr>\n",
       "      <th>14</th>\n",
       "      <td>Cross-platform, Xamarin, Azure</td>\n",
       "      <td>https://example.com/xamarin-portfolio</td>\n",
       "    </tr>\n",
       "    <tr>\n",
       "      <th>15</th>\n",
       "      <td>Backend, Kotlin, Spring Boot</td>\n",
       "      <td>https://example.com/kotlin-backend-portfolio</td>\n",
       "    </tr>\n",
       "    <tr>\n",
       "      <th>16</th>\n",
       "      <td>Frontend, TypeScript, Angular</td>\n",
       "      <td>https://example.com/typescript-frontend-portfolio</td>\n",
       "    </tr>\n",
       "    <tr>\n",
       "      <th>17</th>\n",
       "      <td>Full-stack, JavaScript, Express.js</td>\n",
       "      <td>https://example.com/full-stack-js-portfolio</td>\n",
       "    </tr>\n",
       "    <tr>\n",
       "      <th>18</th>\n",
       "      <td>Machine Learning, Python, TensorFlow</td>\n",
       "      <td>https://example.com/ml-python-portfolio</td>\n",
       "    </tr>\n",
       "    <tr>\n",
       "      <th>19</th>\n",
       "      <td>DevOps, Jenkins, Docker</td>\n",
       "      <td>https://example.com/devops-portfolio</td>\n",
       "    </tr>\n",
       "  </tbody>\n",
       "</table>\n",
       "</div>"
      ],
      "text/plain": [
       "                               Techstack  \\\n",
       "0                React, Node.js, MongoDB   \n",
       "1               Angular,.NET, SQL Server   \n",
       "2      Vue.js, Ruby on Rails, PostgreSQL   \n",
       "3                  Python, Django, MySQL   \n",
       "4              Java, Spring Boot, Oracle   \n",
       "5             Flutter, Firebase, GraphQL   \n",
       "6                  WordPress, PHP, MySQL   \n",
       "7                    Magento, PHP, MySQL   \n",
       "8         React Native, Node.js, MongoDB   \n",
       "9                  iOS, Swift, Core Data   \n",
       "10       Android, Java, Room Persistence   \n",
       "11             Kotlin, Android, Firebase   \n",
       "12       Android TV, Kotlin, Android NDK   \n",
       "13                     iOS, Swift, ARKit   \n",
       "14        Cross-platform, Xamarin, Azure   \n",
       "15          Backend, Kotlin, Spring Boot   \n",
       "16         Frontend, TypeScript, Angular   \n",
       "17    Full-stack, JavaScript, Express.js   \n",
       "18  Machine Learning, Python, TensorFlow   \n",
       "19               DevOps, Jenkins, Docker   \n",
       "\n",
       "                                                Links  \n",
       "0                 https://example.com/react-portfolio  \n",
       "1               https://example.com/angular-portfolio  \n",
       "2                   https://example.com/vue-portfolio  \n",
       "3                https://example.com/python-portfolio  \n",
       "4                  https://example.com/java-portfolio  \n",
       "5               https://example.com/flutter-portfolio  \n",
       "6             https://example.com/wordpress-portfolio  \n",
       "7               https://example.com/magento-portfolio  \n",
       "8          https://example.com/react-native-portfolio  \n",
       "9                   https://example.com/ios-portfolio  \n",
       "10              https://example.com/android-portfolio  \n",
       "11       https://example.com/kotlin-android-portfolio  \n",
       "12           https://example.com/android-tv-portfolio  \n",
       "13               https://example.com/ios-ar-portfolio  \n",
       "14              https://example.com/xamarin-portfolio  \n",
       "15       https://example.com/kotlin-backend-portfolio  \n",
       "16  https://example.com/typescript-frontend-portfolio  \n",
       "17        https://example.com/full-stack-js-portfolio  \n",
       "18            https://example.com/ml-python-portfolio  \n",
       "19               https://example.com/devops-portfolio  "
      ]
     },
     "execution_count": 28,
     "metadata": {},
     "output_type": "execute_result"
    }
   ],
   "source": [
    "import pandas as pd\n",
    "\n",
    "df = pd.read_csv(\"my_portfolio.csv\")\n",
    "df"
   ]
  },
  {
   "cell_type": "code",
   "execution_count": 32,
   "id": "e539fbcb-a7bd-4dc6-97a2-124043d951f2",
   "metadata": {},
   "outputs": [],
   "source": [
    "import chromadb\n",
    "import uuid\n",
    "\n",
    "client = chromadb.PersistentClient('vectorstore')\n",
    "collection = client.get_or_create_collection(name=\"portfolio\")\n",
    "\n",
    "if not collection.count():\n",
    "    for _, row in df.iterrows():\n",
    "        collection.add(documents=row[\"Techstack\"],\n",
    "                       metadatas={\"links\": row[\"Links\"]},\n",
    "                       ids=[str(uuid.uuid4())])\n"
   ]
  },
  {
   "cell_type": "code",
   "execution_count": 34,
   "id": "bd7e0016-ee40-4a9f-a515-c6c71a9d110d",
   "metadata": {},
   "outputs": [
    {
     "data": {
      "text/plain": [
       "[[{'links': 'https://example.com/ml-python-portfolio'},\n",
       "  {'links': 'https://example.com/python-portfolio'}],\n",
       " [{'links': 'https://example.com/react-native-portfolio'},\n",
       "  {'links': 'https://example.com/react-portfolio'}]]"
      ]
     },
     "execution_count": 34,
     "metadata": {},
     "output_type": "execute_result"
    }
   ],
   "source": [
    "links = collection.query(query_texts=[\"Experience in Python\",\"Expertise in React Native\"], n_results=2).get('metadatas', [])\n",
    "links\n"
   ]
  },
  {
   "cell_type": "code",
   "execution_count": 38,
   "id": "0bc99e57-9a46-48c7-bad4-1c56a064d1af",
   "metadata": {},
   "outputs": [
    {
     "data": {
      "text/plain": [
       "{'role': 'Senior Designer, Womens Performance Apparel Color Design',\n",
       " 'experience': 'Minimum 5 years in technically challenging color design experience',\n",
       " 'skills': ['Bachelor’s Degree in Design or related field or equivalent combination of relevant education, experience, and training',\n",
       "  'Passion for storytelling with the ability to translate narratives onto physical product',\n",
       "  'Love of sport, curiosity for athlete insight and connection to sport style trends',\n",
       "  'Interest in women’s apparel and fashion trends',\n",
       "  'Ability to collaborate with other designers/design directors to create palettes and color flow based on category color strategy',\n",
       "  'Demonstrates a strong understanding of color technology and how to achieve desired color effects: materials, dyes, finishes and color achievability',\n",
       "  'Ability to build seasonal color concepts',\n",
       "  'Provides color design support for design team as needed outside of assigned product load',\n",
       "  'Ability to conduct in-depth research on athlete insights in order to drive innovative design solutions',\n",
       "  'Creates and delivers powerful presentations of seasonal design proposals that effectively communicate the concept behind the line for internal and external audiences',\n",
       "  'Ability to plan and execute the product color details and review all samples, troubleshoot for achievability issues and clearly communicate changes in order to ensure timely completion of each project',\n",
       "  'Shows ability to self-manage and lead team through change and ambiguity',\n",
       "  'Excellent written and verbal communication skills',\n",
       "  'Highly proficient in Adobe Creative Suite (Illustrator, InDesign, Photoshop) and Keynote on a Mac Platform'],\n",
       " 'description': 'As the Senior Color Designer in Women’s Performance Apparel, you will bring to life trend-relevant, narrative-driven concepts by being a color specialist at the product and collection level. This will require driving product excellence through the connection of design, development and manufacturing. Through research and deep consumer understanding, you will be on the cutting edge of color trends, fashion, art, design and sports-related products.'}"
      ]
     },
     "execution_count": 38,
     "metadata": {},
     "output_type": "execute_result"
    }
   ],
   "source": [
    "job"
   ]
  },
  {
   "cell_type": "code",
   "execution_count": 35,
   "id": "effd890f-89c4-467b-8a50-a9cefa1ff21b",
   "metadata": {},
   "outputs": [
    {
     "data": {
      "text/plain": [
       "['Bachelor’s Degree in Design or related field or equivalent combination of relevant education, experience, and training',\n",
       " 'Passion for storytelling with the ability to translate narratives onto physical product',\n",
       " 'Love of sport, curiosity for athlete insight and connection to sport style trends',\n",
       " 'Interest in women’s apparel and fashion trends',\n",
       " 'Ability to collaborate with other designers/design directors to create palettes and color flow based on category color strategy',\n",
       " 'Demonstrates a strong understanding of color technology and how to achieve desired color effects: materials, dyes, finishes and color achievability',\n",
       " 'Ability to build seasonal color concepts',\n",
       " 'Provides color design support for design team as needed outside of assigned product load',\n",
       " 'Ability to conduct in-depth research on athlete insights in order to drive innovative design solutions',\n",
       " 'Creates and delivers powerful presentations of seasonal design proposals that effectively communicate the concept behind the line for internal and external audiences',\n",
       " 'Ability to plan and execute the product color details and review all samples, troubleshoot for achievability issues and clearly communicate changes in order to ensure timely completion of each project',\n",
       " 'Shows ability to self-manage and lead team through change and ambiguity',\n",
       " 'Excellent written and verbal communication skills',\n",
       " 'Highly proficient in Adobe Creative Suite (Illustrator, InDesign, Photoshop) and Keynote on a Mac Platform']"
      ]
     },
     "execution_count": 35,
     "metadata": {},
     "output_type": "execute_result"
    }
   ],
   "source": [
    "job = json_res\n",
    "job['skills']"
   ]
  },
  {
   "cell_type": "code",
   "execution_count": 36,
   "id": "b7f43402-d4f7-46fd-a99a-a5a7485e9e02",
   "metadata": {},
   "outputs": [
    {
     "data": {
      "text/plain": [
       "[[{'links': 'https://example.com/ml-python-portfolio'},\n",
       "  {'links': 'https://example.com/ios-portfolio'}],\n",
       " [{'links': 'https://example.com/ios-ar-portfolio'},\n",
       "  {'links': 'https://example.com/vue-portfolio'}],\n",
       " [{'links': 'https://example.com/python-portfolio'},\n",
       "  {'links': 'https://example.com/android-tv-portfolio'}],\n",
       " [{'links': 'https://example.com/magento-portfolio'},\n",
       "  {'links': 'https://example.com/ml-python-portfolio'}],\n",
       " [{'links': 'https://example.com/ml-python-portfolio'},\n",
       "  {'links': 'https://example.com/ios-ar-portfolio'}],\n",
       " [{'links': 'https://example.com/magento-portfolio'},\n",
       "  {'links': 'https://example.com/wordpress-portfolio'}],\n",
       " [{'links': 'https://example.com/ml-python-portfolio'},\n",
       "  {'links': 'https://example.com/magento-portfolio'}],\n",
       " [{'links': 'https://example.com/kotlin-backend-portfolio'},\n",
       "  {'links': 'https://example.com/android-portfolio'}],\n",
       " [{'links': 'https://example.com/ml-python-portfolio'},\n",
       "  {'links': 'https://example.com/ios-portfolio'}],\n",
       " [{'links': 'https://example.com/kotlin-backend-portfolio'},\n",
       "  {'links': 'https://example.com/ios-ar-portfolio'}],\n",
       " [{'links': 'https://example.com/ios-ar-portfolio'},\n",
       "  {'links': 'https://example.com/ml-python-portfolio'}],\n",
       " [{'links': 'https://example.com/devops-portfolio'},\n",
       "  {'links': 'https://example.com/typescript-frontend-portfolio'}],\n",
       " [{'links': 'https://example.com/ml-python-portfolio'},\n",
       "  {'links': 'https://example.com/python-portfolio'}],\n",
       " [{'links': 'https://example.com/ios-ar-portfolio'},\n",
       "  {'links': 'https://example.com/xamarin-portfolio'}]]"
      ]
     },
     "execution_count": 36,
     "metadata": {},
     "output_type": "execute_result"
    }
   ],
   "source": [
    "links = collection.query(query_texts=job['skills'], n_results=2).get('metadatas', [])\n",
    "links"
   ]
  },
  {
   "cell_type": "code",
   "execution_count": 37,
   "id": "55e484a0-b0cb-4db9-98f6-a29be711362d",
   "metadata": {},
   "outputs": [
    {
     "name": "stdout",
     "output_type": "stream",
     "text": [
      "Subject: Expert Solutions for Senior Designer, Women's Performance Apparel Color Design\n",
      "\n",
      "Dear Hiring Manager,\n",
      "\n",
      "I came across the job description for Senior Designer, Women's Performance Apparel Color Design, and I believe SendAi can provide the necessary expertise to support your team. With our extensive experience in AI and software consulting, we can help streamline your design processes, enhance collaboration, and drive innovation.\n",
      "\n",
      "Our team at SendAi has a strong background in developing tailored solutions that cater to specific business needs. We can assist in creating a seamless integration of design, development, and manufacturing, ensuring that your products meet the highest standards of quality and trend relevance.\n",
      "\n",
      "Some of our notable projects include:\n",
      "\n",
      "* Machine Learning and Python solutions: https://example.com/ml-python-portfolio\n",
      "* iOS and iOS AR development: https://example.com/ios-portfolio, https://example.com/ios-ar-portfolio\n",
      "* Magento and e-commerce solutions: https://example.com/magento-portfolio\n",
      "\n",
      "These examples demonstrate our capability to deliver high-quality solutions that can be applied to your color design and product development processes. Our expertise in Adobe Creative Suite, particularly Illustrator, InDesign, and Photoshop, can also support your design team's needs.\n",
      "\n",
      "At SendAi, we understand the importance of driving product excellence through design, development, and manufacturing. Our team can help you achieve this by providing:\n",
      "\n",
      "* Customized software solutions to enhance design collaboration and product development\n",
      "* AI-powered tools to analyze consumer trends and preferences\n",
      "* Streamlined workflows to ensure timely completion of projects\n",
      "\n",
      "I would be delighted to discuss how SendAi can support your team in achieving their goals. Please feel free to contact me to schedule a call and explore how our expertise can benefit your organization.\n",
      "\n",
      "Best regards,\n",
      "\n",
      "Mohan\n",
      "Business Development Executive\n",
      "SendAi\n"
     ]
    }
   ],
   "source": [
    "prompt_email = PromptTemplate.from_template(\n",
    "        \"\"\"\n",
    "        ### JOB DESCRIPTION:\n",
    "        {job_description}\n",
    "        \n",
    "        ### INSTRUCTION:\n",
    "        You are Mohan, a business development executive at SendAi. SendAi is an AI & Software Consulting company dedicated to facilitating\n",
    "        the seamless integration of business processes through automated tools. \n",
    "        Over our experience, we have empowered numerous enterprises with tailored solutions, fostering scalability, \n",
    "        process optimization, cost reduction, and heightened overall efficiency. \n",
    "        Your job is to write a cold email to the client regarding the job mentioned above describing the capability of SendAi \n",
    "        in fulfilling their needs.\n",
    "        Also add the most relevant ones from the following links to showcase SendAi's portfolio: {link_list}\n",
    "        Remember you are Mohan, BDE at SendAi. \n",
    "        Do not provide a preamble.\n",
    "        ### EMAIL (NO PREAMBLE):\n",
    "        \n",
    "        \"\"\"\n",
    "        )\n",
    "\n",
    "chain_email = prompt_email | llm\n",
    "res = chain_email.invoke({\"job_description\": str(job), \"link_list\": links})\n",
    "print(res.content)"
   ]
  }
 ],
 "metadata": {
  "kernelspec": {
   "display_name": "Python 3 (ipykernel)",
   "language": "python",
   "name": "python3"
  },
  "language_info": {
   "codemirror_mode": {
    "name": "ipython",
    "version": 3
   },
   "file_extension": ".py",
   "mimetype": "text/x-python",
   "name": "python",
   "nbconvert_exporter": "python",
   "pygments_lexer": "ipython3",
   "version": "3.10.11"
  }
 },
 "nbformat": 4,
 "nbformat_minor": 5
}
